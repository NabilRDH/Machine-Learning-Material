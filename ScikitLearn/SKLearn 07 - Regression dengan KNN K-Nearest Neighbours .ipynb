{
 "cells": [
  {
   "cell_type": "markdown",
   "id": "64aac533",
   "metadata": {},
   "source": [
    "# Regression dengan KNN (K Nearest Neighbours)\n",
    "KNN adalah model machine learning yang dapat digunakan untuk melakukan prediksi berdasarkan kedekatan karakteristik dengan sejumlah tetangga terdekat.\n",
    "\n",
    "Prediksi yang dilakukan dapat diterapkan baik pada classification maupun regression tasks."
   ]
  },
  {
   "cell_type": "code",
   "execution_count": 2,
   "id": "2365b29f",
   "metadata": {},
   "outputs": [
    {
     "data": {
      "text/html": [
       "<div>\n",
       "<style scoped>\n",
       "    .dataframe tbody tr th:only-of-type {\n",
       "        vertical-align: middle;\n",
       "    }\n",
       "\n",
       "    .dataframe tbody tr th {\n",
       "        vertical-align: top;\n",
       "    }\n",
       "\n",
       "    .dataframe thead th {\n",
       "        text-align: right;\n",
       "    }\n",
       "</style>\n",
       "<table border=\"1\" class=\"dataframe\">\n",
       "  <thead>\n",
       "    <tr style=\"text-align: right;\">\n",
       "      <th></th>\n",
       "      <th>tinggi</th>\n",
       "      <th>berat</th>\n",
       "      <th>jk</th>\n",
       "    </tr>\n",
       "  </thead>\n",
       "  <tbody>\n",
       "    <tr>\n",
       "      <th>0</th>\n",
       "      <td>158</td>\n",
       "      <td>64</td>\n",
       "      <td>pria</td>\n",
       "    </tr>\n",
       "    <tr>\n",
       "      <th>1</th>\n",
       "      <td>170</td>\n",
       "      <td>86</td>\n",
       "      <td>pria</td>\n",
       "    </tr>\n",
       "    <tr>\n",
       "      <th>2</th>\n",
       "      <td>183</td>\n",
       "      <td>84</td>\n",
       "      <td>pria</td>\n",
       "    </tr>\n",
       "    <tr>\n",
       "      <th>3</th>\n",
       "      <td>191</td>\n",
       "      <td>80</td>\n",
       "      <td>pria</td>\n",
       "    </tr>\n",
       "    <tr>\n",
       "      <th>4</th>\n",
       "      <td>155</td>\n",
       "      <td>49</td>\n",
       "      <td>wanita</td>\n",
       "    </tr>\n",
       "    <tr>\n",
       "      <th>5</th>\n",
       "      <td>163</td>\n",
       "      <td>59</td>\n",
       "      <td>wanita</td>\n",
       "    </tr>\n",
       "    <tr>\n",
       "      <th>6</th>\n",
       "      <td>180</td>\n",
       "      <td>67</td>\n",
       "      <td>wanita</td>\n",
       "    </tr>\n",
       "    <tr>\n",
       "      <th>7</th>\n",
       "      <td>158</td>\n",
       "      <td>54</td>\n",
       "      <td>wanita</td>\n",
       "    </tr>\n",
       "    <tr>\n",
       "      <th>8</th>\n",
       "      <td>178</td>\n",
       "      <td>67</td>\n",
       "      <td>wanita</td>\n",
       "    </tr>\n",
       "  </tbody>\n",
       "</table>\n",
       "</div>"
      ],
      "text/plain": [
       "   tinggi  berat      jk\n",
       "0     158     64    pria\n",
       "1     170     86    pria\n",
       "2     183     84    pria\n",
       "3     191     80    pria\n",
       "4     155     49  wanita\n",
       "5     163     59  wanita\n",
       "6     180     67  wanita\n",
       "7     158     54  wanita\n",
       "8     178     67  wanita"
      ]
     },
     "execution_count": 2,
     "metadata": {},
     "output_type": "execute_result"
    }
   ],
   "source": [
    "import pandas as pd\n",
    "\n",
    "sensus = {\n",
    "    'tinggi': [158, 170, 183, 191, 155, 163, 180, 158, 178],\n",
    "    'berat': [64, 86, 84, 80, 49, 59, 67, 54, 67],\n",
    "    'jk': [\n",
    "        'pria', 'pria', 'pria', 'pria', 'wanita', 'wanita', 'wanita', 'wanita', \n",
    "        'wanita'\n",
    "    ]\n",
    "}\n",
    "\n",
    "sensus_df = pd.DataFrame(sensus)\n",
    "sensus_df"
   ]
  },
  {
   "cell_type": "code",
   "execution_count": 5,
   "id": "fdf9b31d",
   "metadata": {},
   "outputs": [
    {
     "name": "stdout",
     "output_type": "stream",
     "text": [
      "X_train: [[158 'pria']\n",
      " [170 'pria']\n",
      " [183 'pria']\n",
      " [191 'pria']\n",
      " [155 'wanita']\n",
      " [163 'wanita']\n",
      " [180 'wanita']\n",
      " [158 'wanita']\n",
      " [178 'wanita']]\n",
      "y_train: [64 86 84 80 49 59 67 54 67]\n"
     ]
    }
   ],
   "source": [
    "import numpy as np\n",
    "\n",
    "X_train = np.array(sensus_df[['tinggi', 'jk']])\n",
    "y_train = np.array(sensus_df['berat'])\n",
    "\n",
    "print(f'X_train: {X_train}')\n",
    "print(f'y_train: {y_train}')"
   ]
  },
  {
   "cell_type": "markdown",
   "id": "36cdad7e",
   "metadata": {},
   "source": [
    "# Preprocess dataset: konversi label menjadi numerik"
   ]
  },
  {
   "cell_type": "code",
   "execution_count": 7,
   "id": "5e7a8a54",
   "metadata": {},
   "outputs": [],
   "source": [
    "X_train_transposed = np.transpose(X_train)\n",
    "\n",
    "#proses transpose akan merubah posisi baris menjadi kolom ataupun sebaliknya"
   ]
  },
  {
   "cell_type": "code",
   "execution_count": 10,
   "id": "9eadd36b",
   "metadata": {},
   "outputs": [
    {
     "name": "stdout",
     "output_type": "stream",
     "text": [
      "jk: ['pria' 'pria' 'pria' 'pria' 'wanita' 'wanita' 'wanita' 'wanita' 'wanita']\n",
      "\n",
      "jk_binarised:\n",
      " [[0]\n",
      " [0]\n",
      " [0]\n",
      " [0]\n",
      " [1]\n",
      " [1]\n",
      " [1]\n",
      " [1]\n",
      " [1]]\n"
     ]
    }
   ],
   "source": [
    "from sklearn.preprocessing import LabelBinarizer\n",
    "\n",
    "lb = LabelBinarizer()\n",
    "jk_binarised = lb.fit_transform(X_train_transposed[1])\n",
    "\n",
    "print(f'jk: {X_train_transposed[1]}\\n')\n",
    "print(f'jk_binarised:\\n {jk_binarised}')"
   ]
  },
  {
   "cell_type": "markdown",
   "id": "83950d5e",
   "metadata": {},
   "source": [
    "### Flatten\n",
    "Method flatten digunakan untuk mengubah multidimensi array menjadi single dimensi array"
   ]
  },
  {
   "cell_type": "code",
   "execution_count": 11,
   "id": "ab58b93e",
   "metadata": {},
   "outputs": [
    {
     "data": {
      "text/plain": [
       "array([0, 0, 0, 0, 1, 1, 1, 1, 1])"
      ]
     },
     "execution_count": 11,
     "metadata": {},
     "output_type": "execute_result"
    }
   ],
   "source": [
    "jk_binarised = jk_binarised.flatten()\n",
    "jk_binarised"
   ]
  },
  {
   "cell_type": "code",
   "execution_count": 13,
   "id": "54d7dd18",
   "metadata": {},
   "outputs": [
    {
     "name": "stdout",
     "output_type": "stream",
     "text": [
      "X_train_transposes: [[158 170 183 191 155 163 180 158 178]\n",
      " [0 0 0 0 1 1 1 1 1]]\n",
      "\n",
      "X_train: [[158 0]\n",
      " [170 0]\n",
      " [183 0]\n",
      " [191 0]\n",
      " [155 1]\n",
      " [163 1]\n",
      " [180 1]\n",
      " [158 1]\n",
      " [178 1]]\n"
     ]
    }
   ],
   "source": [
    "X_train_transposed[1] = jk_binarised\n",
    "X_train = X_train_transposed.transpose()\n",
    "\n",
    "print (f'X_train_transposes: {X_train_transposed}\\n')\n",
    "print (f'X_train: {X_train}')"
   ]
  },
  {
   "cell_type": "markdown",
   "id": "50533320",
   "metadata": {},
   "source": [
    "## Training KNN Regression Model"
   ]
  },
  {
   "cell_type": "code",
   "execution_count": 14,
   "id": "60cd8321",
   "metadata": {},
   "outputs": [
    {
     "data": {
      "text/plain": [
       "KNeighborsRegressor(n_neighbors=3)"
      ]
     },
     "execution_count": 14,
     "metadata": {},
     "output_type": "execute_result"
    }
   ],
   "source": [
    "from sklearn.neighbors import KNeighborsRegressor\n",
    "\n",
    "K = 3\n",
    "model = KNeighborsRegressor(n_neighbors=K)\n",
    "model.fit(X_train, y_train)"
   ]
  },
  {
   "cell_type": "markdown",
   "id": "c749f9fc",
   "metadata": {},
   "source": [
    "## Prediksi Berat Badan\n"
   ]
  },
  {
   "cell_type": "code",
   "execution_count": 15,
   "id": "edaa278f",
   "metadata": {},
   "outputs": [
    {
     "data": {
      "text/plain": [
       "array([[155,   1]])"
      ]
     },
     "execution_count": 15,
     "metadata": {},
     "output_type": "execute_result"
    }
   ],
   "source": [
    "X_new = np.array([[155, 1]])\n",
    "X_new"
   ]
  },
  {
   "cell_type": "code",
   "execution_count": 16,
   "id": "c30c027d",
   "metadata": {},
   "outputs": [
    {
     "data": {
      "text/plain": [
       "array([55.66666667])"
      ]
     },
     "execution_count": 16,
     "metadata": {},
     "output_type": "execute_result"
    }
   ],
   "source": [
    "y_pred= model.predict(X_new)\n",
    "y_pred"
   ]
  },
  {
   "cell_type": "markdown",
   "id": "2c475fb3",
   "metadata": {},
   "source": [
    "Untuk data tinggi badan 155 dengan jenis kelamin wanita diprediksi memiliki \n",
    "berat badan 55,6 Kg"
   ]
  },
  {
   "cell_type": "markdown",
   "id": "ed289858",
   "metadata": {},
   "source": [
    "# Evaluasi KNN Regression Model\n"
   ]
  },
  {
   "cell_type": "code",
   "execution_count": 32,
   "id": "7cc99ddd",
   "metadata": {},
   "outputs": [
    {
     "name": "stdout",
     "output_type": "stream",
     "text": [
      "X_test: [[168   0]\n",
      " [180   0]\n",
      " [160   1]\n",
      " [169   1]]\n",
      "y_test: [65 96 52 67]\n"
     ]
    }
   ],
   "source": [
    "# Testing set\n",
    "X_test = np.array([[168, 0 ], [180, 0], [160, 1], [169, 1]])\n",
    "y_test = np.array([65, 96, 52, 67])\n",
    "\n",
    "print(f'X_test: {X_test}')\n",
    "print(f'y_test: {y_test}')"
   ]
  },
  {
   "cell_type": "code",
   "execution_count": 33,
   "id": "2a2eeb00",
   "metadata": {},
   "outputs": [
    {
     "data": {
      "text/plain": [
       "array([69.66666667, 72.66666667, 59.        , 70.66666667])"
      ]
     },
     "execution_count": 33,
     "metadata": {},
     "output_type": "execute_result"
    }
   ],
   "source": [
    "y_pred = model.predict(X_test)\n",
    "y_pred"
   ]
  },
  {
   "cell_type": "markdown",
   "id": "fe507dd2",
   "metadata": {},
   "source": [
    "Untuk tinggi badan 168 dengan jenis kelamin pria memiliki nilai prediksi 69 kg \n",
    "sedangkan data yang diharapkan 65kg dan seterusnya"
   ]
  },
  {
   "cell_type": "markdown",
   "id": "c0d85ae7",
   "metadata": {},
   "source": [
    "## Coefficient of Determination atau R-squared\n",
    "Pengujian koefisien determinasi ini dilakukan dengan maksud mengukur kemampuan model dalam menerangkan seberapa pengaruh variabel independen secara bersama–sama (stimultan) mempengaruhi variabel dependen yang dapat diindikasikan oleh nilai adjusted R – Squared (Ghozali, 2016)."
   ]
  },
  {
   "cell_type": "code",
   "execution_count": 34,
   "id": "ff60232a",
   "metadata": {},
   "outputs": [
    {
     "name": "stdout",
     "output_type": "stream",
     "text": [
      "R-squared: 0.39200515796260493\n"
     ]
    }
   ],
   "source": [
    "from sklearn.metrics import r2_score\n",
    "\n",
    "r_squared = r2_score(y_test, y_pred)\n",
    "\n",
    "print(f'R-squared: {r_squared}')"
   ]
  },
  {
   "cell_type": "markdown",
   "id": "39086949",
   "metadata": {},
   "source": [
    "Berdasarkan nilai Koefisien Determinasi (R-Square) pada variabel diatas adalah sebesar 0,392 hal ini menunjukkan bahwa semua variable independent/bebas secara simultan memiliki pengaruh yaitu sebesar 39,2% terhadap Kepatuhan Wajib Pajak (variable dependen/terikat). Sedangkan sisanya yaitu sebesar 60,8% dipengaruhi oleh variabel lain yang tidak diuji dalam penelitian."
   ]
  },
  {
   "cell_type": "markdown",
   "id": "8fdf2728",
   "metadata": {},
   "source": [
    "## Mean absolute Error (MAE) atau Mean Absolute Deviation (MAD)\n",
    "\n",
    "merupakan nilai rata-rata dari absolute error dari prediksi\n",
    "\n",
    "nilai MAE merupakan selisih antara nilai prediksi dengan nilai sebenarnya\n",
    "\n",
    "semakin kecil nilai MSE akan semakin baik"
   ]
  },
  {
   "cell_type": "code",
   "execution_count": 35,
   "id": "ef931369",
   "metadata": {},
   "outputs": [
    {
     "name": "stdout",
     "output_type": "stream",
     "text": [
      "MAE: 9.666666666666668\n"
     ]
    }
   ],
   "source": [
    "from sklearn.metrics import mean_absolute_error\n",
    "\n",
    "MAE = mean_absolute_error(y_test, y_pred)\n",
    "\n",
    "print(f'MAE: {MAE}')"
   ]
  },
  {
   "cell_type": "markdown",
   "id": "8da6164d",
   "metadata": {},
   "source": [
    "## Mean Squared Error (MSE) atau Mean Squared Deviation (MSD)\n",
    "MSE merupakan nilai kuadrat rata-rata dari nilai prediksi\n",
    "\n",
    "nilai MSE merupakan selisih antara nilai prediksi dengan nilai sebenarnya\n",
    "\n",
    "semakin kecil nilai MSE akan semakin baik"
   ]
  },
  {
   "cell_type": "code",
   "execution_count": 36,
   "id": "e890997c",
   "metadata": {},
   "outputs": [
    {
     "name": "stdout",
     "output_type": "stream",
     "text": [
      "MSE: 157.16666666666663\n"
     ]
    }
   ],
   "source": [
    "from sklearn.metrics import mean_squared_error\n",
    "\n",
    "MSE = mean_squared_error(y_test, y_pred)\n",
    "\n",
    "print(f'MSE: {MSE}')"
   ]
  },
  {
   "cell_type": "markdown",
   "id": "cae9b467",
   "metadata": {},
   "source": [
    "# Permasalahan Scaling pada Features"
   ]
  },
  {
   "cell_type": "code",
   "execution_count": 37,
   "id": "84f3952b",
   "metadata": {},
   "outputs": [
    {
     "data": {
      "text/plain": [
       "[60.0, 40.01249804748511]"
      ]
     },
     "execution_count": 37,
     "metadata": {},
     "output_type": "execute_result"
    }
   ],
   "source": [
    "from scipy.spatial.distance import euclidean\n",
    "\n",
    "# tinggi dalam milimeter\n",
    "X_train = np.array([[1700, 0], [1600, 1]])\n",
    "X_new = np.array([[1640, 0]])\n",
    "\n",
    "[euclidean(X_new[0], d) for d in X_train]"
   ]
  },
  {
   "cell_type": "code",
   "execution_count": 39,
   "id": "a1d1cf26",
   "metadata": {},
   "outputs": [
    {
     "data": {
      "text/plain": [
       "[0.06000000000000005, 1.0007996802557444]"
      ]
     },
     "execution_count": 39,
     "metadata": {},
     "output_type": "execute_result"
    }
   ],
   "source": [
    "# tinggi dalam meter\n",
    "X_train = np.array([[1.7, 0], [1.6, 1]])\n",
    "X_new = np.array([[1.64, 0]])\n",
    "\n",
    "[euclidean(X_new[0], d) for d in X_train]"
   ]
  },
  {
   "cell_type": "markdown",
   "id": "056d9293",
   "metadata": {},
   "source": [
    "Jarak pada datapoint meter lebih dekat dibandingkan jarak pada datapoint milimeter"
   ]
  },
  {
   "cell_type": "markdown",
   "id": "6a057919",
   "metadata": {},
   "source": [
    "## Menerapkan Standard Scaler (Standard Score atau X-score)"
   ]
  },
  {
   "cell_type": "code",
   "execution_count": 41,
   "id": "5a33daf0",
   "metadata": {},
   "outputs": [],
   "source": [
    "from sklearn.preprocessing import StandardScaler\n",
    "\n",
    "ss = StandardScaler()"
   ]
  },
  {
   "cell_type": "code",
   "execution_count": 44,
   "id": "9f905f5e",
   "metadata": {},
   "outputs": [
    {
     "name": "stdout",
     "output_type": "stream",
     "text": [
      "X_train_scaled:\n",
      " [[ 1. -1.]\n",
      " [-1.  1.]]\n",
      "\n",
      "X_new_scaled:\n",
      " [[-0.2 -1. ]]\n",
      "\n",
      "Jarak: [1.2, 2.154065922853802]\n"
     ]
    }
   ],
   "source": [
    "# tinggi dalam milimeter\n",
    "X_train = np.array([[1700, 0], [1600, 1]])\n",
    "X_train_scaled = ss.fit_transform(X_train)\n",
    "print(f'X_train_scaled:\\n {X_train_scaled}\\n')\n",
    "\n",
    "X_new = np.array([[1640, 0]])\n",
    "X_new_scaled = ss.transform(X_new)\n",
    "print(f'X_new_scaled:\\n {X_new_scaled}\\n')\n",
    "\n",
    "jarak = [euclidean(X_new_scaled[0], d) for d in X_train_scaled]\n",
    "print(f'Jarak: {jarak}')"
   ]
  },
  {
   "cell_type": "code",
   "execution_count": 46,
   "id": "bba3fbc0",
   "metadata": {},
   "outputs": [
    {
     "name": "stdout",
     "output_type": "stream",
     "text": [
      "X_train_scaled:\n",
      " [[ 1. -1.]\n",
      " [-1.  1.]]\n",
      "\n",
      "X_new_scaled:\n",
      " [[-0.2 -1. ]]\n",
      "\n",
      "Jarak: [1.2000000000000026, 2.1540659228538006]\n"
     ]
    }
   ],
   "source": [
    "# tinggi dalam meter\n",
    "X_train = np.array([[1.7, 0], [1.6, 1]])\n",
    "X_train_scaled = ss.fit_transform(X_train)\n",
    "print(f'X_train_scaled:\\n {X_train_scaled}\\n')\n",
    "\n",
    "X_new = np.array([[1.64, 0]])\n",
    "X_new_scaled = ss.transform(X_new)\n",
    "print(f'X_new_scaled:\\n {X_new_scaled}\\n')\n",
    "\n",
    "jarak = [euclidean(X_new_scaled[0], d) for d in X_train_scaled]\n",
    "print(f'Jarak: {jarak}')"
   ]
  },
  {
   "cell_type": "markdown",
   "id": "402d57e2",
   "metadata": {},
   "source": [
    "Jarak pada datapoint meter dan milimeter memiliki nilai jarak yang sama.\n",
    "Menerapkan standard scaller sangat baik untuk memiliki hasil yang konsisten."
   ]
  },
  {
   "cell_type": "markdown",
   "id": "db1746f6",
   "metadata": {},
   "source": [
    "# Menerapkan Features Scaling pada KNN\n",
    "## Dataset"
   ]
  },
  {
   "cell_type": "code",
   "execution_count": 48,
   "id": "d7ac452a",
   "metadata": {},
   "outputs": [],
   "source": [
    "# Training set\n",
    "X_train = np.array ([[158, 0], [170, 0], [183,0], [191, 0],[155, 1], [163,1],\n",
    "                   [180, 1], [158, 1], [170, 1]])\n",
    "y_train = np.array ([64, 86, 84, 80, 49, 59, 67, 54, 67])\n",
    "\n",
    "# Test set\n",
    "X_test = np.array([[168, 0], [180, 0], [160, 1], [169, 1]])\n",
    "y_test = np.array([65, 96, 52, 67])"
   ]
  },
  {
   "cell_type": "markdown",
   "id": "516af410",
   "metadata": {},
   "source": [
    "## Features Scaling (Standard Scaler)"
   ]
  },
  {
   "cell_type": "code",
   "execution_count": 50,
   "id": "4ce05235",
   "metadata": {},
   "outputs": [
    {
     "name": "stdout",
     "output_type": "stream",
     "text": [
      "X_train_scaled: [[-0.9908706  -1.11803399]\n",
      " [ 0.01869567 -1.11803399]\n",
      " [ 1.11239246 -1.11803399]\n",
      " [ 1.78543664 -1.11803399]\n",
      " [-1.24326216  0.89442719]\n",
      " [-0.57021798  0.89442719]\n",
      " [ 0.86000089  0.89442719]\n",
      " [-0.9908706   0.89442719]\n",
      " [ 0.01869567  0.89442719]]\n",
      "\n",
      "X_test_scaled: [[-0.14956537 -1.11803399]\n",
      " [ 0.86000089 -1.11803399]\n",
      " [-0.82260955  0.89442719]\n",
      " [-0.06543485  0.89442719]]\n"
     ]
    }
   ],
   "source": [
    "X_train_scaled = ss.fit_transform(X_train)\n",
    "X_test_scaled = ss.transform(X_test)\n",
    "\n",
    "print(f'X_train_scaled: {X_train_scaled}\\n')\n",
    "print(f'X_test_scaled: {X_test_scaled}')"
   ]
  },
  {
   "cell_type": "markdown",
   "id": "c38223ed",
   "metadata": {},
   "source": [
    "## Training & Evaluasi Model"
   ]
  },
  {
   "cell_type": "code",
   "execution_count": 51,
   "id": "ca6625c5",
   "metadata": {},
   "outputs": [
    {
     "name": "stdout",
     "output_type": "stream",
     "text": [
      "MAE: 7.583333333333336\n",
      "MSE: 85.13888888888893\n"
     ]
    }
   ],
   "source": [
    "model.fit(X_train_scaled, y_train)\n",
    "y_pred = model.predict(X_test_scaled)\n",
    "\n",
    "MAE = mean_absolute_error(y_test, y_pred)\n",
    "MSE = mean_squared_error(y_test, y_pred)\n",
    "\n",
    "print(f'MAE: {MAE}')\n",
    "print(f'MSE: {MSE}')"
   ]
  },
  {
   "cell_type": "code",
   "execution_count": null,
   "id": "27910012",
   "metadata": {},
   "outputs": [],
   "source": []
  }
 ],
 "metadata": {
  "kernelspec": {
   "display_name": "Python 3 (ipykernel)",
   "language": "python",
   "name": "python3"
  },
  "language_info": {
   "codemirror_mode": {
    "name": "ipython",
    "version": 3
   },
   "file_extension": ".py",
   "mimetype": "text/x-python",
   "name": "python",
   "nbconvert_exporter": "python",
   "pygments_lexer": "ipython3",
   "version": "3.9.12"
  }
 },
 "nbformat": 4,
 "nbformat_minor": 5
}
