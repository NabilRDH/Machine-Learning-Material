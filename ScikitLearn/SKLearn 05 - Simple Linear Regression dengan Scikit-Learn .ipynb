{
 "cells": [
  {
   "cell_type": "code",
   "execution_count": 1,
   "id": "6096ac54",
   "metadata": {},
   "outputs": [],
   "source": [
    "import pandas as pd"
   ]
  },
  {
   "cell_type": "markdown",
   "id": "28fad3c3",
   "metadata": {},
   "source": [
    "## Simple Linear Regresion\n",
    "simple linear regression memodelkan hubungan antara sebuah response variable/ independent variable dengan sebuah explanatory variable/ dependent variable sebagai suatu garis lurus (linear)"
   ]
  },
  {
   "cell_type": "code",
   "execution_count": 2,
   "id": "73edb980",
   "metadata": {},
   "outputs": [
    {
     "data": {
      "text/html": [
       "<div>\n",
       "<style scoped>\n",
       "    .dataframe tbody tr th:only-of-type {\n",
       "        vertical-align: middle;\n",
       "    }\n",
       "\n",
       "    .dataframe tbody tr th {\n",
       "        vertical-align: top;\n",
       "    }\n",
       "\n",
       "    .dataframe thead th {\n",
       "        text-align: right;\n",
       "    }\n",
       "</style>\n",
       "<table border=\"1\" class=\"dataframe\">\n",
       "  <thead>\n",
       "    <tr style=\"text-align: right;\">\n",
       "      <th></th>\n",
       "      <th>diameter</th>\n",
       "      <th>harga</th>\n",
       "    </tr>\n",
       "  </thead>\n",
       "  <tbody>\n",
       "    <tr>\n",
       "      <th>0</th>\n",
       "      <td>6</td>\n",
       "      <td>7.0</td>\n",
       "    </tr>\n",
       "    <tr>\n",
       "      <th>1</th>\n",
       "      <td>8</td>\n",
       "      <td>9.0</td>\n",
       "    </tr>\n",
       "    <tr>\n",
       "      <th>2</th>\n",
       "      <td>10</td>\n",
       "      <td>13.0</td>\n",
       "    </tr>\n",
       "    <tr>\n",
       "      <th>3</th>\n",
       "      <td>14</td>\n",
       "      <td>17.5</td>\n",
       "    </tr>\n",
       "    <tr>\n",
       "      <th>4</th>\n",
       "      <td>18</td>\n",
       "      <td>18.0</td>\n",
       "    </tr>\n",
       "  </tbody>\n",
       "</table>\n",
       "</div>"
      ],
      "text/plain": [
       "   diameter  harga\n",
       "0         6    7.0\n",
       "1         8    9.0\n",
       "2        10   13.0\n",
       "3        14   17.5\n",
       "4        18   18.0"
      ]
     },
     "execution_count": 2,
     "metadata": {},
     "output_type": "execute_result"
    }
   ],
   "source": [
    "pizza = {'diameter': [6, 8, 10, 14, 18],\n",
    "        'harga': [7, 9, 13, 17.5, 18]}\n",
    "\n",
    "pizza_df = pd.DataFrame(pizza)\n",
    "pizza_df"
   ]
  },
  {
   "cell_type": "markdown",
   "id": "ea763eff",
   "metadata": {},
   "source": [
    "## Visualisasi data"
   ]
  },
  {
   "cell_type": "code",
   "execution_count": 13,
   "id": "860abd8d",
   "metadata": {},
   "outputs": [
    {
     "data": {
      "image/png": "[encoded data removed]",
      "text/plain": [
       "<Figure size 432x288 with 1 Axes>"
      ]
     },
     "metadata": {
      "needs_background": "light"
     },
     "output_type": "display_data"
    }
   ],
   "source": [
    "import matplotlib.pyplot as plt\n",
    "\n",
    "pizza_df.plot (kind='scatter', x='diameter', y='harga')\n",
    "\n",
    "plt.title('Perbandingan diameter pizza dan harga pizza')\n",
    "plt.xlabel('Diameter (inch)')\n",
    "plt.ylabel('Harga (dollar)')\n",
    "\n",
    "plt.xlim(0, 25)\n",
    "plt.ylim(0, 25)\n",
    "plt.grid(True)\n",
    "plt.show()"
   ]
  },
  {
   "cell_type": "markdown",
   "id": "867a0f57",
   "metadata": {},
   "source": [
    "## Simple linear Regression Model"
   ]
  },
  {
   "cell_type": "code",
   "execution_count": 6,
   "id": "0f5b7e78",
   "metadata": {},
   "outputs": [
    {
     "name": "stdout",
     "output_type": "stream",
     "text": [
      "X: [ 6  8 10 14 18]\n",
      "y: [ 7.   9.  13.  17.5 18. ]\n"
     ]
    }
   ],
   "source": [
    "#Penyesuaian dataset\n",
    "import numpy as np\n",
    "\n",
    "# X merupakan independent variable / feature\n",
    "X = np.array(pizza_df['diameter'])\n",
    "# Y merupakan dependent variable / target\n",
    "y = np.array(pizza_df['harga'])\n",
    "\n",
    "print (f'X: {X}')\n",
    "print (f'y: {y}')"
   ]
  },
  {
   "cell_type": "code",
   "execution_count": 7,
   "id": "8aa28770",
   "metadata": {},
   "outputs": [
    {
     "data": {
      "text/plain": [
       "(5, 1)"
      ]
     },
     "execution_count": 7,
     "metadata": {},
     "output_type": "execute_result"
    }
   ],
   "source": [
    "X = X.reshape(-1, 1)\n",
    "X.shape"
   ]
  },
  {
   "cell_type": "markdown",
   "id": "84081823",
   "metadata": {},
   "source": [
    "## Training Simple Linear Regression Model"
   ]
  },
  {
   "cell_type": "code",
   "execution_count": 8,
   "id": "5286f0ed",
   "metadata": {},
   "outputs": [
    {
     "data": {
      "text/plain": [
       "LinearRegression()"
      ]
     },
     "execution_count": 8,
     "metadata": {},
     "output_type": "execute_result"
    }
   ],
   "source": [
    "from sklearn.linear_model import LinearRegression\n",
    "\n",
    "model = LinearRegression()\n",
    "model.fit(X,y)"
   ]
  },
  {
   "cell_type": "markdown",
   "id": "06981564",
   "metadata": {},
   "source": [
    "## Visualisasi simple linear regression model"
   ]
  },
  {
   "cell_type": "code",
   "execution_count": 9,
   "id": "029e1510",
   "metadata": {},
   "outputs": [],
   "source": [
    "X_vis = np.array([0, 25]).reshape(-1, 1)\n",
    "y_vis = model.predict (X_vis)"
   ]
  },
  {
   "cell_type": "code",
   "execution_count": 27,
   "id": "fc2b3bc3",
   "metadata": {},
   "outputs": [
    {
     "data": {
      "image/png": "[encoded data removed]",
      "text/plain": [
       "<Figure size 432x288 with 1 Axes>"
      ]
     },
     "metadata": {
      "needs_background": "light"
     },
     "output_type": "display_data"
    }
   ],
   "source": [
    "plt.scatter (X, y)\n",
    "plt.plot (X_vis, y_vis, '-r')\n",
    "\n",
    "plt.title('Perbandingan diameter pizza dan harga pizza')\n",
    "plt.xlabel('Diameter (inch)')\n",
    "plt.ylabel('Harga (dollar)')\n",
    "\n",
    "plt.xlim(0, 25)\n",
    "plt.ylim(0, 25)\n",
    "plt.grid(True)\n",
    "plt.show()"
   ]
  },
  {
   "cell_type": "markdown",
   "id": "1960be60",
   "metadata": {},
   "source": [
    "## Formula Linear Regression: y = alfa +beta x\n",
    "\n",
    "#### y = dependent variable\n",
    "#### x = independent variable\n",
    "#### alfa (intercept) = nilai sumbu y disaat sumbu x = 0\n",
    "#### beta (slope) = kemiringan dari nilai garis yang terbentuk (covariance_xy/variance_x)"
   ]
  },
  {
   "cell_type": "code",
   "execution_count": 17,
   "id": "6070568c",
   "metadata": {},
   "outputs": [
    {
     "name": "stdout",
     "output_type": "stream",
     "text": [
      " intercept: 1.965517241379315\n",
      " slope: [0.9762931]\n"
     ]
    }
   ],
   "source": [
    "print (f' intercept: {model.intercept_}')\n",
    "print (f' slope: {model.coef_}')"
   ]
  },
  {
   "cell_type": "markdown",
   "id": "c16e67fd",
   "metadata": {},
   "source": [
    "## Prediksi Harga Pizza"
   ]
  },
  {
   "cell_type": "code",
   "execution_count": 20,
   "id": "a0fa2f2c",
   "metadata": {},
   "outputs": [
    {
     "data": {
      "text/plain": [
       "array([[12],\n",
       "       [20],\n",
       "       [18]])"
      ]
     },
     "execution_count": 20,
     "metadata": {},
     "output_type": "execute_result"
    }
   ],
   "source": [
    "diameter_pizza = np.array ([12, 20, 18]). reshape (-1, 1)\n",
    "diameter_pizza"
   ]
  },
  {
   "cell_type": "code",
   "execution_count": 23,
   "id": "1030c7e6",
   "metadata": {},
   "outputs": [
    {
     "data": {
      "text/plain": [
       "array([13.68103448, 21.49137931, 19.5387931 ])"
      ]
     },
     "execution_count": 23,
     "metadata": {},
     "output_type": "execute_result"
    }
   ],
   "source": [
    "prediksi_harga = model.predict(diameter_pizza)\n",
    "prediksi_harga"
   ]
  },
  {
   "cell_type": "code",
   "execution_count": 25,
   "id": "e3af5f50",
   "metadata": {},
   "outputs": [
    {
     "name": "stdout",
     "output_type": "stream",
     "text": [
      "Diameter: [12] prediksi harga: 13.681034482758621\n",
      "Diameter: [20] prediksi harga: 21.491379310344826\n",
      "Diameter: [18] prediksi harga: 19.53879310344827\n"
     ]
    }
   ],
   "source": [
    "for dmtr, hrg in zip(diameter_pizza, prediksi_harga):\n",
    "    print(f'Diameter: {dmtr} prediksi harga: {hrg}')"
   ]
  },
  {
   "cell_type": "markdown",
   "id": "2dd91027",
   "metadata": {},
   "source": [
    "## Evaluasi Regression model dengan coefficient of determination dan R squared\n",
    "Pengujian koefisien determinasi ini dilakukan dengan maksud mengukur kemampuan model dalam menerangkan seberapa pengaruh variabel independen secara bersama–sama (stimultan) mempengaruhi variabel dependen yang dapat diindikasikan oleh nilai adjusted R – Squared (Ghozali, 2016).\n",
    "\n",
    "Nilai koefisien determinasi yang kecil memiliki arti bahwa kemampuan variabel – variabel independen dalam menjelaskan variabel dependen sangat terbatas, Sebaliknya jika nilai mendekati 1 (satu) dan menjauhi 0 (nol) memiliki arti bahwa variabel – variabel independen memiliki kemampuan memberikan semua informasi yang dibutuhkan untuk memprediksi variabel dependen (Ghozali, 2016).\n",
    "\n",
    "Menurut Chin (1998), nilai R-Square dikategorikan kuat jika lebih dari 0,67, moderat jika lebih dari 0,33 tetapi lebih rendah dari 0,67, dan lemah jika lebih dari 0,19 tetapi lebih rendah dari 0,33."
   ]
  },
  {
   "cell_type": "markdown",
   "id": "03a1e87b",
   "metadata": {},
   "source": [
    "## Training test dataset"
   ]
  },
  {
   "cell_type": "code",
   "execution_count": 37,
   "id": "38531134",
   "metadata": {},
   "outputs": [],
   "source": [
    "X_train = np.array ([6, 8, 10, 14, 18]).reshape(-1, 1)\n",
    "y_train = np.array ([7, 9, 13, 17.5, 18])\n",
    "\n",
    "X_test = np.array ([8, 9, 11, 16, 12]).reshape(-1, 1)\n",
    "y_test = np.array ([11, 8.5, 15, 18, 11])"
   ]
  },
  {
   "cell_type": "markdown",
   "id": "04c48c47",
   "metadata": {},
   "source": [
    "## Training simple linear regression model"
   ]
  },
  {
   "cell_type": "code",
   "execution_count": 30,
   "id": "3afa12c2",
   "metadata": {},
   "outputs": [
    {
     "data": {
      "text/plain": [
       "LinearRegression()"
      ]
     },
     "execution_count": 30,
     "metadata": {},
     "output_type": "execute_result"
    }
   ],
   "source": [
    "model = LinearRegression()\n",
    "model.fit(X_train, y_train)"
   ]
  },
  {
   "cell_type": "code",
   "execution_count": 38,
   "id": "0b316aba",
   "metadata": {},
   "outputs": [
    {
     "name": "stdout",
     "output_type": "stream",
     "text": [
      "R-squared: 0.29010083464520775\n"
     ]
    }
   ],
   "source": [
    "from sklearn.metrics import r2_score\n",
    "\n",
    "y_pred = model.predict(X_test)\n",
    "\n",
    "r_squared = r2_score(y_test, y_pred)\n",
    "\n",
    "print(f'R-squared: {r_squared}')"
   ]
  },
  {
   "cell_type": "markdown",
   "id": "60565460",
   "metadata": {},
   "source": [
    "Berdasarkan nilai Koefisien Determinasi (R-Square) pada variabel diatas adalah sebesar 0,2901 hal ini menunjukkan bahwa semua variable independent/bebas secara simultan memiliki pengaruh yaitu sebesar 29,01% terhadap Kepatuhan Wajib Pajak (variable dependen/terikat). Sedangkan sisanya yaitu sebesar 70,99% dipengaruhi oleh variabel lain yang tidak diuji dalam penelitian."
   ]
  },
  {
   "cell_type": "code",
   "execution_count": null,
   "id": "d899cd0a",
   "metadata": {},
   "outputs": [],
   "source": [
    " "
   ]
  }
 ],
 "metadata": {
  "kernelspec": {
   "display_name": "Python 3 (ipykernel)",
   "language": "python",
   "name": "python3"
  },
  "language_info": {
   "codemirror_mode": {
    "name": "ipython",
    "version": 3
   },
   "file_extension": ".py",
   "mimetype": "text/x-python",
   "name": "python",
   "nbconvert_exporter": "python",
   "pygments_lexer": "ipython3",
   "version": "3.9.12"
  }
 },
 "nbformat": 4,
 "nbformat_minor": 5
}
