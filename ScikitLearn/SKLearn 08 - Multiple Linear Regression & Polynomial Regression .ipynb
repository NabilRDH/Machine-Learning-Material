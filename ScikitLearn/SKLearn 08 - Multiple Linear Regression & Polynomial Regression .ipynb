{
 "cells": [
  {
   "cell_type": "markdown",
   "id": "1d5c3b41",
   "metadata": {},
   "source": [
    "# Sample Dataset\n",
    "## Training Dataset"
   ]
  },
  {
   "cell_type": "code",
   "execution_count": 2,
   "id": "7e1de63e",
   "metadata": {},
   "outputs": [
    {
     "data": {
      "text/html": [
       "<div>\n",
       "<style scoped>\n",
       "    .dataframe tbody tr th:only-of-type {\n",
       "        vertical-align: middle;\n",
       "    }\n",
       "\n",
       "    .dataframe tbody tr th {\n",
       "        vertical-align: top;\n",
       "    }\n",
       "\n",
       "    .dataframe thead th {\n",
       "        text-align: right;\n",
       "    }\n",
       "</style>\n",
       "<table border=\"1\" class=\"dataframe\">\n",
       "  <thead>\n",
       "    <tr style=\"text-align: right;\">\n",
       "      <th></th>\n",
       "      <th>diameter</th>\n",
       "      <th>n_topping</th>\n",
       "      <th>harga</th>\n",
       "    </tr>\n",
       "  </thead>\n",
       "  <tbody>\n",
       "    <tr>\n",
       "      <th>0</th>\n",
       "      <td>6</td>\n",
       "      <td>2</td>\n",
       "      <td>7.0</td>\n",
       "    </tr>\n",
       "    <tr>\n",
       "      <th>1</th>\n",
       "      <td>8</td>\n",
       "      <td>1</td>\n",
       "      <td>9.0</td>\n",
       "    </tr>\n",
       "    <tr>\n",
       "      <th>2</th>\n",
       "      <td>10</td>\n",
       "      <td>0</td>\n",
       "      <td>13.0</td>\n",
       "    </tr>\n",
       "    <tr>\n",
       "      <th>3</th>\n",
       "      <td>14</td>\n",
       "      <td>2</td>\n",
       "      <td>17.5</td>\n",
       "    </tr>\n",
       "    <tr>\n",
       "      <th>4</th>\n",
       "      <td>18</td>\n",
       "      <td>0</td>\n",
       "      <td>18.0</td>\n",
       "    </tr>\n",
       "  </tbody>\n",
       "</table>\n",
       "</div>"
      ],
      "text/plain": [
       "   diameter  n_topping  harga\n",
       "0         6          2    7.0\n",
       "1         8          1    9.0\n",
       "2        10          0   13.0\n",
       "3        14          2   17.5\n",
       "4        18          0   18.0"
      ]
     },
     "execution_count": 2,
     "metadata": {},
     "output_type": "execute_result"
    }
   ],
   "source": [
    "import pandas as pd\n",
    "\n",
    "pizza = {'diameter': [6, 8, 10, 14, 18],\n",
    "        'n_topping': [2, 1, 0, 2, 0],\n",
    "        'harga': [7, 9 , 13, 17.5, 18]}\n",
    "\n",
    "train_pizza_df = pd.DataFrame(pizza)\n",
    "train_pizza_df"
   ]
  },
  {
   "cell_type": "markdown",
   "id": "9f06e0cb",
   "metadata": {},
   "source": [
    "## Testing Dataset"
   ]
  },
  {
   "cell_type": "code",
   "execution_count": 3,
   "id": "22ab025a",
   "metadata": {},
   "outputs": [
    {
     "data": {
      "text/html": [
       "<div>\n",
       "<style scoped>\n",
       "    .dataframe tbody tr th:only-of-type {\n",
       "        vertical-align: middle;\n",
       "    }\n",
       "\n",
       "    .dataframe tbody tr th {\n",
       "        vertical-align: top;\n",
       "    }\n",
       "\n",
       "    .dataframe thead th {\n",
       "        text-align: right;\n",
       "    }\n",
       "</style>\n",
       "<table border=\"1\" class=\"dataframe\">\n",
       "  <thead>\n",
       "    <tr style=\"text-align: right;\">\n",
       "      <th></th>\n",
       "      <th>diameter</th>\n",
       "      <th>n_topping</th>\n",
       "      <th>harga</th>\n",
       "    </tr>\n",
       "  </thead>\n",
       "  <tbody>\n",
       "    <tr>\n",
       "      <th>0</th>\n",
       "      <td>8</td>\n",
       "      <td>2</td>\n",
       "      <td>11.0</td>\n",
       "    </tr>\n",
       "    <tr>\n",
       "      <th>1</th>\n",
       "      <td>9</td>\n",
       "      <td>0</td>\n",
       "      <td>8.5</td>\n",
       "    </tr>\n",
       "    <tr>\n",
       "      <th>2</th>\n",
       "      <td>11</td>\n",
       "      <td>2</td>\n",
       "      <td>15.0</td>\n",
       "    </tr>\n",
       "    <tr>\n",
       "      <th>3</th>\n",
       "      <td>16</td>\n",
       "      <td>2</td>\n",
       "      <td>18.0</td>\n",
       "    </tr>\n",
       "    <tr>\n",
       "      <th>4</th>\n",
       "      <td>12</td>\n",
       "      <td>0</td>\n",
       "      <td>11.0</td>\n",
       "    </tr>\n",
       "  </tbody>\n",
       "</table>\n",
       "</div>"
      ],
      "text/plain": [
       "   diameter  n_topping  harga\n",
       "0         8          2   11.0\n",
       "1         9          0    8.5\n",
       "2        11          2   15.0\n",
       "3        16          2   18.0\n",
       "4        12          0   11.0"
      ]
     },
     "execution_count": 3,
     "metadata": {},
     "output_type": "execute_result"
    }
   ],
   "source": [
    "pizza = {'diameter': [8, 9, 11, 16, 12],\n",
    "        'n_topping': [2, 0, 2, 2, 0],\n",
    "        'harga': [11, 8.5, 15, 18, 11]}\n",
    "\n",
    "test_pizza_df = pd.DataFrame(pizza)\n",
    "test_pizza_df"
   ]
  },
  {
   "cell_type": "markdown",
   "id": "0d025fbd",
   "metadata": {},
   "source": [
    "# Preprocessing Dataset"
   ]
  },
  {
   "cell_type": "code",
   "execution_count": 4,
   "id": "db54d06a",
   "metadata": {},
   "outputs": [
    {
     "name": "stdout",
     "output_type": "stream",
     "text": [
      "X_train: [[ 6  2]\n",
      " [ 8  1]\n",
      " [10  0]\n",
      " [14  2]\n",
      " [18  0]]\n",
      "y_train: [ 7.   9.  13.  17.5 18. ]\n"
     ]
    }
   ],
   "source": [
    "import numpy as np\n",
    "\n",
    "X_train = np.array(train_pizza_df[['diameter', 'n_topping']])\n",
    "y_train = np.array(train_pizza_df['harga'])\n",
    "\n",
    "print(f'X_train: {X_train}')\n",
    "print(f'y_train: {y_train}')"
   ]
  },
  {
   "cell_type": "code",
   "execution_count": 5,
   "id": "1c7b7362",
   "metadata": {},
   "outputs": [
    {
     "name": "stdout",
     "output_type": "stream",
     "text": [
      "X_test: [[ 8  2]\n",
      " [ 9  0]\n",
      " [11  2]\n",
      " [16  2]\n",
      " [12  0]]\n",
      "y_test: [11.   8.5 15.  18.  11. ]\n"
     ]
    }
   ],
   "source": [
    "X_test = np.array(test_pizza_df[['diameter', 'n_topping']])\n",
    "y_test = np.array(test_pizza_df['harga'])\n",
    "\n",
    "print(f'X_test: {X_test}')\n",
    "print(f'y_test: {y_test}')"
   ]
  },
  {
   "cell_type": "markdown",
   "id": "901c97c4",
   "metadata": {},
   "source": [
    "# Multiple Linear Regression\n",
    "Multiple Linear Regression merupakan generalisasi dari simple linear regression yang memungkinkan untuk menggunakan independent variable/features lebih dari 1\n",
    "\n",
    "tidak ada perbedaan aplikasi di sklearn terhadap multiple regression dengan simple regression"
   ]
  },
  {
   "cell_type": "code",
   "execution_count": 8,
   "id": "7e5e10af",
   "metadata": {},
   "outputs": [
    {
     "name": "stdout",
     "output_type": "stream",
     "text": [
      "r_squared: 0.7701677731318468\n"
     ]
    }
   ],
   "source": [
    "from sklearn.linear_model import LinearRegression\n",
    "from sklearn.metrics import r2_score\n",
    "\n",
    "model = LinearRegression()\n",
    "model.fit(X_train, y_train)\n",
    "y_pred = model.predict(X_test)\n",
    "\n",
    "r2 = r2_score(y_test, y_pred)\n",
    "\n",
    "print(f'r_squared: {r2}')"
   ]
  },
  {
   "cell_type": "markdown",
   "id": "ae16151f",
   "metadata": {},
   "source": [
    "# Polynomial Regression\n",
    "\n",
    "Polynomial regression memodelkan hubungan antara X dengan y sebagai derajat polynomial dalam x"
   ]
  },
  {
   "cell_type": "code",
   "execution_count": 10,
   "id": "7d97ae36",
   "metadata": {},
   "outputs": [
    {
     "name": "stdout",
     "output_type": "stream",
     "text": [
      "X_train: [[ 6]\n",
      " [ 8]\n",
      " [10]\n",
      " [14]\n",
      " [18]]\n",
      "y_train: [ 7.   9.  13.  17.5 18. ]\n"
     ]
    }
   ],
   "source": [
    "# method reshape digunakan untuk mengubah array 1 dimensi menjadi 2 dimensi\n",
    "X_train = np.array(train_pizza_df['diameter']).reshape(-1, 1)\n",
    "y_train = np.array(train_pizza_df['harga'])\n",
    "\n",
    "print(f'X_train: {X_train}')\n",
    "print(f'y_train: {y_train}')"
   ]
  },
  {
   "cell_type": "markdown",
   "id": "3509e5c4",
   "metadata": {},
   "source": [
    "## Polynomial Regression: Quadratic\n",
    "\n",
    "y = alfa +beta1*X + Beta2*Xquadrat\n",
    "\n",
    "\n",
    "## Polynomial Features"
   ]
  },
  {
   "cell_type": "code",
   "execution_count": 16,
   "id": "fd8df8a7",
   "metadata": {},
   "outputs": [
    {
     "name": "stdout",
     "output_type": "stream",
     "text": [
      "X_train_quadratic:\n",
      " [[  1.   6.  36.]\n",
      " [  1.   8.  64.]\n",
      " [  1.  10. 100.]\n",
      " [  1.  14. 196.]\n",
      " [  1.  18. 324.]]\n"
     ]
    }
   ],
   "source": [
    "from sklearn.preprocessing import PolynomialFeatures\n",
    "\n",
    "quadratic_feature = PolynomialFeatures(degree=2)\n",
    "X_train_quadratic = quadratic_feature.fit_transform(X_train)\n",
    "\n",
    "print(f'X_train_quadratic:\\n {X_train_quadratic}')"
   ]
  },
  {
   "cell_type": "markdown",
   "id": "441a07c2",
   "metadata": {},
   "source": [
    "## Training model"
   ]
  },
  {
   "cell_type": "code",
   "execution_count": 17,
   "id": "ea42f7e5",
   "metadata": {},
   "outputs": [
    {
     "data": {
      "text/plain": [
       "LinearRegression()"
      ]
     },
     "execution_count": 17,
     "metadata": {},
     "output_type": "execute_result"
    }
   ],
   "source": [
    "model = LinearRegression()\n",
    "model.fit(X_train_quadratic, y_train)"
   ]
  },
  {
   "cell_type": "markdown",
   "id": "789f6e52",
   "metadata": {},
   "source": [
    "Prosess polynomial hanya dilakukan pada features\n",
    "\n",
    "perbedaan yang terdapat pada polynomial regression dengan linear regression hanya pada perubahan features, dimana pada polynomial regression features diubah menjadi polynomial."
   ]
  },
  {
   "cell_type": "markdown",
   "id": "7e883e13",
   "metadata": {},
   "source": [
    "## Visualisasi Model"
   ]
  },
  {
   "cell_type": "code",
   "execution_count": 19,
   "id": "309b0fe6",
   "metadata": {},
   "outputs": [
    {
     "data": {
      "image/png": "[encoded data removed]",
      "text/plain": [
       "<Figure size 432x288 with 1 Axes>"
      ]
     },
     "metadata": {
      "needs_background": "light"
     },
     "output_type": "display_data"
    }
   ],
   "source": [
    "import matplotlib.pyplot as plt\n",
    "\n",
    "X_vis = np.linspace(0, 25, 100).reshape(-1, 1)\n",
    "X_vis_quadratic = quadratic_feature.transform(X_vis)\n",
    "y_vis_quadratic = model.predict(X_vis_quadratic)\n",
    "\n",
    "plt.scatter(X_train, y_train)\n",
    "plt.plot(X_vis, y_vis_quadratic, '-r')\n",
    "\n",
    "plt.title('Perbandingan diameter dan harga pizza')\n",
    "plt.xlabel('Diameter (inch)')\n",
    "plt.ylabel('harga(dollar)')\n",
    "plt.xlim(0, 25)\n",
    "plt.ylim(0, 25)\n",
    "plt.grid(True)\n",
    "plt.show()"
   ]
  },
  {
   "cell_type": "markdown",
   "id": "c77ff938",
   "metadata": {},
   "source": [
    "## Polynomial Regression: quadratic vs cubic"
   ]
  },
  {
   "cell_type": "code",
   "execution_count": null,
   "id": "ad15349d",
   "metadata": {},
   "outputs": [],
   "source": [
    "# Training set\n",
    "plt.scatter(X_train, y_train)\n",
    "\n"
   ]
  }
 ],
 "metadata": {
  "kernelspec": {
   "display_name": "Python 3 (ipykernel)",
   "language": "python",
   "name": "python3"
  },
  "language_info": {
   "codemirror_mode": {
    "name": "ipython",
    "version": 3
   },
   "file_extension": ".py",
   "mimetype": "text/x-python",
   "name": "python",
   "nbconvert_exporter": "python",
   "pygments_lexer": "ipython3",
   "version": "3.9.12"
  }
 },
 "nbformat": 4,
 "nbformat_minor": 5
}
